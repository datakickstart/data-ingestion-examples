{
  "nbformat": 4,
  "nbformat_minor": 2,
  "cells": [
    {
      "cell_type": "code",
      "execution_count": 103,
      "outputs": [],
      "metadata": {
        "jupyter": {
          "source_hidden": false,
          "outputs_hidden": false
        },
        "nteract": {
          "transient": {
            "deleting": false
          }
        },
        "tags": [
          "parameters"
        ]
      },
      "source": [
        "# Parameters:\r\n",
        "# Set test_run to True only when running tests. Keep it as False (default) for normal use\r\n",
        "test_run= True #False"
      ]
    },
    {
      "cell_type": "code",
      "execution_count": 112,
      "outputs": [],
      "metadata": {},
      "source": [
        "from dataclasses import dataclass, asdict\r\n",
        "import time\r\n",
        "\r\n",
        "@dataclass\r\n",
        "class LogMessage():\r\n",
        "    message: str\r\n",
        "    job_name: str\r\n",
        "    destination_database_name: str = \"\"\r\n",
        "    destination_table_name: str = \"\"\r\n",
        "    source_table_name: str =\"\"\r\n",
        "    duration: str = \"0\"\r\n",
        "    job_start_time: str = \"\"\r\n",
        "    job_end_time: str = \"\"\r\n",
        "\r\n",
        "base_message = None\r\n",
        "\r\n",
        "def print_message(start=False, stop=False):\r\n",
        "    msg_str = '{\"message\": \"' + base_message.message + '\", \"job_name\": \"' + base_message.job_name + '\"'\r\n",
        "    if start or stop:\r\n",
        "        msg_str += ', \"destination\": \"' + base_message.destination_database_name + '.' + base_message.destination_table_name + '\"'\r\n",
        "    if stop:\r\n",
        "         msg_str += ', \"duration\": \"' + base_message.duration + '\"'\r\n",
        "    msg_str += '}'\r\n",
        "    return msg_str\r\n",
        "\r\n",
        "spark_log4j = sc._jvm.org.apache.log4j\r\n",
        "logger = spark_log4j.LogManager.getLogger(\"synapse_dataplatform\")"
      ]
    },
    {
      "cell_type": "code",
      "execution_count": 105,
      "outputs": [],
      "metadata": {
        "jupyter": {
          "source_hidden": false,
          "outputs_hidden": false
        },
        "nteract": {
          "transient": {
            "deleting": false
          }
        }
      },
      "source": [
        "def start_logging(job_name, destination_database_name, destination_table_name, source_table_name):\r\n",
        "    job_start_time = time.perf_counter()\r\n",
        "    \r\n",
        "    global base_message\r\n",
        "    base_message = LogMessage(message=\"\", job_name=job_name, destination_database_name=destination_database_name, destination_table_name=destination_table_name, job_start_time=job_start_time)\r\n",
        "\r\n",
        "    base_message.message=f\"Starting logger for {job_name}\"\r\n",
        "    logger.info(print_message(start=True))"
      ]
    },
    {
      "cell_type": "code",
      "execution_count": 106,
      "outputs": [],
      "metadata": {
        "jupyter": {
          "source_hidden": false,
          "outputs_hidden": false
        },
        "nteract": {
          "transient": {
            "deleting": false
          }
        }
      },
      "source": [
        "def stop_logging(job_name):\r\n",
        "    base_message.job_end_time = time.perf_counter()\r\n",
        "    base_message.duration = str(base_message.job_end_time - base_message.job_start_time)\r\n",
        "    base_message.message = f\"Stopping logger for {job_name}\"\r\n",
        "    logger.info(print_message(stop=True))"
      ]
    },
    {
      "cell_type": "code",
      "execution_count": 107,
      "outputs": [],
      "metadata": {
        "jupyter": {
          "source_hidden": false,
          "outputs_hidden": false
        },
        "nteract": {
          "transient": {
            "deleting": false
          }
        }
      },
      "source": [
        "def log_informational_message(message):\r\n",
        "    base_message.message = message\r\n",
        "    logger.info(print_message())"
      ]
    },
    {
      "cell_type": "code",
      "execution_count": 108,
      "outputs": [],
      "metadata": {
        "jupyter": {
          "source_hidden": false,
          "outputs_hidden": false
        },
        "nteract": {
          "transient": {
            "deleting": false
          }
        }
      },
      "source": [
        "def log_warning_message(message):\r\n",
        "    base_message.message = message\r\n",
        "    logger.warn(print_message())"
      ]
    },
    {
      "cell_type": "code",
      "execution_count": 109,
      "outputs": [],
      "metadata": {
        "jupyter": {
          "source_hidden": false,
          "outputs_hidden": false
        },
        "nteract": {
          "transient": {
            "deleting": false
          }
        }
      },
      "source": [
        "def log_error_message(message):\r\n",
        "    base_message.message = message\r\n",
        "    logger.error(print_message())"
      ]
    },
    {
      "cell_type": "code",
      "execution_count": 113,
      "outputs": [],
      "metadata": {
        "jupyter": {
          "source_hidden": false,
          "outputs_hidden": false
        },
        "nteract": {
          "transient": {
            "deleting": false
          }
        }
      },
      "source": [
        "if test_run:\r\n",
        "    start_logging('log_test_job', 'log_test_destination_db', 'log_test_destination_table', 'log_test_source_table')\r\n",
        "    log_informational_message('Log test informational message')\r\n",
        "    stop_logging('log_test_job')"
      ]
    }
  ],
  "metadata": {
    "save_output": true,
    "kernelspec": {
      "name": "synapse_pyspark",
      "display_name": "Synapse PySpark"
    },
    "language_info": {
      "name": "python"
    }
  }
}